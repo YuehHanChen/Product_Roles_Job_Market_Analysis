{
 "cells": [
  {
   "cell_type": "markdown",
   "metadata": {},
   "source": [
    "# Product Job Market Analysis"
   ]
  },
  {
   "cell_type": "markdown",
   "metadata": {},
   "source": [
    "### by Yueh-Han Chen"
   ]
  },
  {
   "cell_type": "markdown",
   "metadata": {},
   "source": [
    "### Dataset Overview\n",
    "\n",
    "> This dataset is from h1bdata.info, where has the h1b disclosure data from the United States Department of Labor (DOL).\n",
    "\n",
    "\n",
    "### Research Question:\n",
    "1. Which is the most popular Product job?\n",
    "2. H1B issue amounts over years?\n",
    "3. Which Product job gets paid the highest salary?\n",
    "4. H1B denial rate over years?\n",
    "5. Waiting days for H1B?\n",
    "6. Which states offer the most H1B?\n",
    "7. Which states offer the highest salaries?\n"
   ]
  },
  {
   "cell_type": "markdown",
   "metadata": {},
   "source": [
    "## Data Wrangling"
   ]
  },
  {
   "cell_type": "markdown",
   "metadata": {},
   "source": [
    "### Gather"
   ]
  },
  {
   "cell_type": "code",
   "execution_count": 32,
   "metadata": {},
   "outputs": [],
   "source": [
    "# import all packages and set plots to be embedded inline\n",
    "import numpy as np\n",
    "import pandas as pd\n",
    "import statsmodels.api as sm\n",
    "import matplotlib.pyplot as plt\n",
    "import seaborn as sb\n",
    "\n",
    "%matplotlib inline\n",
    "\n",
    "# suppress warnings from final output\n",
    "import warnings\n",
    "warnings.simplefilter(\"ignore\")"
   ]
  },
  {
   "cell_type": "code",
   "execution_count": 33,
   "metadata": {},
   "outputs": [],
   "source": [
    "#load data\n",
    "df = pd.read_excel('Product_Data.xlsx', 'Combined')"
   ]
  },
  {
   "cell_type": "markdown",
   "metadata": {},
   "source": [
    "### Data Assessing"
   ]
  },
  {
   "cell_type": "code",
   "execution_count": 34,
   "metadata": {},
   "outputs": [],
   "source": [
    "# set up to view all the info of the columns\n",
    "pd.set_option('display.max_columns', None)\n",
    "pd.set_option('display.max_rows', None)"
   ]
  },
  {
   "cell_type": "code",
   "execution_count": 35,
   "metadata": {},
   "outputs": [
    {
     "data": {
      "text/html": [
       "<div>\n",
       "<style scoped>\n",
       "    .dataframe tbody tr th:only-of-type {\n",
       "        vertical-align: middle;\n",
       "    }\n",
       "\n",
       "    .dataframe tbody tr th {\n",
       "        vertical-align: top;\n",
       "    }\n",
       "\n",
       "    .dataframe thead th {\n",
       "        text-align: right;\n",
       "    }\n",
       "</style>\n",
       "<table border=\"1\" class=\"dataframe\">\n",
       "  <thead>\n",
       "    <tr style=\"text-align: right;\">\n",
       "      <th></th>\n",
       "      <th>EMPLOYER</th>\n",
       "      <th>JOB TITLE</th>\n",
       "      <th>BASE SALARY</th>\n",
       "      <th>LOCATION</th>\n",
       "      <th>SUBMIT DATE</th>\n",
       "      <th>START DATE</th>\n",
       "      <th>CASE STATUS</th>\n",
       "    </tr>\n",
       "  </thead>\n",
       "  <tbody>\n",
       "    <tr>\n",
       "      <td>0</td>\n",
       "      <td>TRUE FABRICATIONS INC</td>\n",
       "      <td>PRODUCT MANAGER</td>\n",
       "      <td>30000</td>\n",
       "      <td>SEATTLE, WA</td>\n",
       "      <td>01/15/2015</td>\n",
       "      <td>2015-01-04 00:00:00</td>\n",
       "      <td>DENIED</td>\n",
       "    </tr>\n",
       "    <tr>\n",
       "      <td>1</td>\n",
       "      <td>PARIS BAGUETTE BON DOUX INC</td>\n",
       "      <td>PRODUCT MANAGER</td>\n",
       "      <td>36000</td>\n",
       "      <td>COMMERCE, CA</td>\n",
       "      <td>2017-10-03 00:00:00</td>\n",
       "      <td>2017-01-09 00:00:00</td>\n",
       "      <td>CERTIFIED</td>\n",
       "    </tr>\n",
       "    <tr>\n",
       "      <td>2</td>\n",
       "      <td>TRUE FABRICATIONS INC</td>\n",
       "      <td>PRODUCT MANAGER</td>\n",
       "      <td>40000</td>\n",
       "      <td>SEATTLE, WA</td>\n",
       "      <td>01/26/2015</td>\n",
       "      <td>2015-01-04 00:00:00</td>\n",
       "      <td>CERTIFIED</td>\n",
       "    </tr>\n",
       "    <tr>\n",
       "      <td>3</td>\n",
       "      <td>LEEWARD INTERNATIONAL INC</td>\n",
       "      <td>PRODUCT MANAGER</td>\n",
       "      <td>42140</td>\n",
       "      <td>TEANECK, NJ</td>\n",
       "      <td>03/18/2015</td>\n",
       "      <td>09/15/2015</td>\n",
       "      <td>CERTIFIED</td>\n",
       "    </tr>\n",
       "    <tr>\n",
       "      <td>4</td>\n",
       "      <td>SOUTH STREET INDUSTRIES INC</td>\n",
       "      <td>PRODUCT MANAGER</td>\n",
       "      <td>42740</td>\n",
       "      <td>NEW YORK, NY</td>\n",
       "      <td>2015-09-07 00:00:00</td>\n",
       "      <td>2015-01-10 00:00:00</td>\n",
       "      <td>CERTIFIED</td>\n",
       "    </tr>\n",
       "  </tbody>\n",
       "</table>\n",
       "</div>"
      ],
      "text/plain": [
       "                      EMPLOYER        JOB TITLE  BASE SALARY      LOCATION  \\\n",
       "0        TRUE FABRICATIONS INC  PRODUCT MANAGER        30000   SEATTLE, WA   \n",
       "1  PARIS BAGUETTE BON DOUX INC  PRODUCT MANAGER        36000  COMMERCE, CA   \n",
       "2        TRUE FABRICATIONS INC  PRODUCT MANAGER        40000   SEATTLE, WA   \n",
       "3    LEEWARD INTERNATIONAL INC  PRODUCT MANAGER        42140   TEANECK, NJ   \n",
       "4  SOUTH STREET INDUSTRIES INC  PRODUCT MANAGER        42740  NEW YORK, NY   \n",
       "\n",
       "           SUBMIT DATE           START DATE CASE STATUS  \n",
       "0           01/15/2015  2015-01-04 00:00:00      DENIED  \n",
       "1  2017-10-03 00:00:00  2017-01-09 00:00:00   CERTIFIED  \n",
       "2           01/26/2015  2015-01-04 00:00:00   CERTIFIED  \n",
       "3           03/18/2015           09/15/2015   CERTIFIED  \n",
       "4  2015-09-07 00:00:00  2015-01-10 00:00:00   CERTIFIED  "
      ]
     },
     "execution_count": 35,
     "metadata": {},
     "output_type": "execute_result"
    }
   ],
   "source": [
    "df.head()"
   ]
  },
  {
   "cell_type": "code",
   "execution_count": 36,
   "metadata": {},
   "outputs": [
    {
     "data": {
      "text/plain": [
       "(6444, 7)"
      ]
     },
     "execution_count": 36,
     "metadata": {},
     "output_type": "execute_result"
    }
   ],
   "source": [
    "df.shape"
   ]
  },
  {
   "cell_type": "code",
   "execution_count": 37,
   "metadata": {},
   "outputs": [
    {
     "data": {
      "text/html": [
       "<div>\n",
       "<style scoped>\n",
       "    .dataframe tbody tr th:only-of-type {\n",
       "        vertical-align: middle;\n",
       "    }\n",
       "\n",
       "    .dataframe tbody tr th {\n",
       "        vertical-align: top;\n",
       "    }\n",
       "\n",
       "    .dataframe thead th {\n",
       "        text-align: right;\n",
       "    }\n",
       "</style>\n",
       "<table border=\"1\" class=\"dataframe\">\n",
       "  <thead>\n",
       "    <tr style=\"text-align: right;\">\n",
       "      <th></th>\n",
       "      <th>BASE SALARY</th>\n",
       "    </tr>\n",
       "  </thead>\n",
       "  <tbody>\n",
       "    <tr>\n",
       "      <td>count</td>\n",
       "      <td>6444.000000</td>\n",
       "    </tr>\n",
       "    <tr>\n",
       "      <td>mean</td>\n",
       "      <td>122716.790658</td>\n",
       "    </tr>\n",
       "    <tr>\n",
       "      <td>std</td>\n",
       "      <td>37290.470430</td>\n",
       "    </tr>\n",
       "    <tr>\n",
       "      <td>min</td>\n",
       "      <td>4750.000000</td>\n",
       "    </tr>\n",
       "    <tr>\n",
       "      <td>25%</td>\n",
       "      <td>96013.000000</td>\n",
       "    </tr>\n",
       "    <tr>\n",
       "      <td>50%</td>\n",
       "      <td>120000.000000</td>\n",
       "    </tr>\n",
       "    <tr>\n",
       "      <td>75%</td>\n",
       "      <td>143365.500000</td>\n",
       "    </tr>\n",
       "    <tr>\n",
       "      <td>max</td>\n",
       "      <td>315000.000000</td>\n",
       "    </tr>\n",
       "  </tbody>\n",
       "</table>\n",
       "</div>"
      ],
      "text/plain": [
       "         BASE SALARY\n",
       "count    6444.000000\n",
       "mean   122716.790658\n",
       "std     37290.470430\n",
       "min      4750.000000\n",
       "25%     96013.000000\n",
       "50%    120000.000000\n",
       "75%    143365.500000\n",
       "max    315000.000000"
      ]
     },
     "execution_count": 37,
     "metadata": {},
     "output_type": "execute_result"
    }
   ],
   "source": [
    "df.describe()"
   ]
  },
  {
   "cell_type": "code",
   "execution_count": 38,
   "metadata": {},
   "outputs": [
    {
     "name": "stdout",
     "output_type": "stream",
     "text": [
      "<class 'pandas.core.frame.DataFrame'>\n",
      "RangeIndex: 6444 entries, 0 to 6443\n",
      "Data columns (total 7 columns):\n",
      "EMPLOYER       6444 non-null object\n",
      "JOB TITLE      6444 non-null object\n",
      "BASE SALARY    6444 non-null int64\n",
      "LOCATION       6444 non-null object\n",
      "SUBMIT DATE    6444 non-null object\n",
      "START DATE     6444 non-null object\n",
      "CASE STATUS    6444 non-null object\n",
      "dtypes: int64(1), object(6)\n",
      "memory usage: 352.5+ KB\n"
     ]
    }
   ],
   "source": [
    "df.info()"
   ]
  },
  {
   "cell_type": "code",
   "execution_count": 39,
   "metadata": {
    "scrolled": true
   },
   "outputs": [
    {
     "data": {
      "text/plain": [
       "122"
      ]
     },
     "execution_count": 39,
     "metadata": {},
     "output_type": "execute_result"
    }
   ],
   "source": [
    "df[df.duplicated()].shape[0]"
   ]
  },
  {
   "cell_type": "markdown",
   "metadata": {},
   "source": [
    "### Assessment report:\n",
    "\n",
    "**Quality issues**\n",
    "\n",
    "- Convert \"SUBMIT DATE\" and \"START DATE\" to datetime"
   ]
  },
  {
   "cell_type": "markdown",
   "metadata": {},
   "source": [
    "### Data Cleaning"
   ]
  },
  {
   "cell_type": "markdown",
   "metadata": {},
   "source": [
    "**Convert \"SUBMIT DATE\" and \"START DATE\" to datetime**"
   ]
  },
  {
   "cell_type": "markdown",
   "metadata": {},
   "source": [
    "**Define: use pd.to_datetime to convert data type to datetime**"
   ]
  },
  {
   "cell_type": "markdown",
   "metadata": {},
   "source": [
    "#### Code"
   ]
  },
  {
   "cell_type": "code",
   "execution_count": 9,
   "metadata": {},
   "outputs": [],
   "source": [
    "df[\"SUBMIT DATE\"] = pd.to_datetime(df[\"SUBMIT DATE\"])\n",
    "df[\"START DATE\"] = pd.to_datetime(df[\"START DATE\"])"
   ]
  },
  {
   "cell_type": "markdown",
   "metadata": {},
   "source": [
    "#### Test"
   ]
  },
  {
   "cell_type": "code",
   "execution_count": 10,
   "metadata": {},
   "outputs": [
    {
     "name": "stdout",
     "output_type": "stream",
     "text": [
      "<class 'pandas.core.frame.DataFrame'>\n",
      "RangeIndex: 6444 entries, 0 to 6443\n",
      "Data columns (total 7 columns):\n",
      "EMPLOYER       6444 non-null object\n",
      "JOB TITLE      6444 non-null object\n",
      "BASE SALARY    6444 non-null int64\n",
      "LOCATION       6444 non-null object\n",
      "SUBMIT DATE    6444 non-null datetime64[ns]\n",
      "START DATE     6444 non-null datetime64[ns]\n",
      "CASE STATUS    6444 non-null object\n",
      "dtypes: datetime64[ns](2), int64(1), object(4)\n",
      "memory usage: 352.5+ KB\n"
     ]
    }
   ],
   "source": [
    "df.info()"
   ]
  },
  {
   "cell_type": "markdown",
   "metadata": {},
   "source": [
    "## Exploratory Data Analysis"
   ]
  },
  {
   "cell_type": "markdown",
   "metadata": {},
   "source": [
    "> Build Visualization Function: desc()"
   ]
  },
  {
   "cell_type": "code",
   "execution_count": 11,
   "metadata": {},
   "outputs": [],
   "source": [
    "def desc(size=None, title=None, xscale=None, yscale=None, xlabel=None, ylabel=None, xlim=None, ylim=None, xticks1=None, xticks2=None, yticks1=None, yticks2=None,legend_title=None, legend_labels=None):\n",
    "    # this function must be placed above the code of the plots\n",
    "    if size:\n",
    "        plt.figure(figsize=size)\n",
    "    if title:\n",
    "        plt.title(title);\n",
    "    if xscale:\n",
    "        plt.xscale(xscale);\n",
    "    if yscale:\n",
    "        plt.yscale(yscale);\n",
    "    if xlabel:\n",
    "        plt.xlabel(xlabel);\n",
    "    if ylabel:\n",
    "        plt.ylabel(ylabel);\n",
    "    if xlim:\n",
    "        plt.xlim(xlim);\n",
    "    if ylim:\n",
    "        plt.ylim(ylim);\n",
    "    if xticks1:\n",
    "        plt.xticks(xticks1, xticks2);\n",
    "    if yticks1:\n",
    "        plt.yticks(yticks1, yticks2);\n",
    "    if legend_title:\n",
    "        plt.legend(title=legend_title);\n",
    "        if legend_labels:\n",
    "            plt.legend(title=legend_title, labels=legend_labels);"
   ]
  },
  {
   "cell_type": "markdown",
   "metadata": {},
   "source": [
    "## Research Question 1: Proportion by Differrent Product Job "
   ]
  },
  {
   "cell_type": "code",
   "execution_count": 12,
   "metadata": {
    "scrolled": false
   },
   "outputs": [
    {
     "data": {
      "image/png": "[encoded data removed]",
      "text/plain": [
       "<Figure size 864x432 with 1 Axes>"
      ]
     },
     "metadata": {
      "needs_background": "light"
     },
     "output_type": "display_data"
    }
   ],
   "source": [
    "desc(title='Proportion by differrent product job title', ylabel='%', size=(12,6))\n",
    "((df['JOB TITLE'].value_counts()/df.shape[0])*100).plot.bar()\n",
    "plt.xticks(rotation=10);"
   ]
  },
  {
   "cell_type": "markdown",
   "metadata": {},
   "source": [
    "## Research Question 2: H1B issue amounts over years?"
   ]
  },
  {
   "cell_type": "code",
   "execution_count": 18,
   "metadata": {
    "scrolled": true
   },
   "outputs": [
    {
     "data": {
      "text/plain": [
       "PRODUCT MANAGER    5840\n",
       "PRODUCT ANALYST     604\n",
       "Name: JOB TITLE, dtype: int64"
      ]
     },
     "execution_count": 18,
     "metadata": {},
     "output_type": "execute_result"
    }
   ],
   "source": [
    "df['JOB TITLE'].value_counts()"
   ]
  },
  {
   "cell_type": "code",
   "execution_count": 19,
   "metadata": {},
   "outputs": [],
   "source": [
    "df_PM = df[df['JOB TITLE'] == 'PRODUCT MANAGER']\n",
    "df_PA = df[df['JOB TITLE'] == 'PRODUCT ANALYST']"
   ]
  },
  {
   "cell_type": "code",
   "execution_count": 20,
   "metadata": {},
   "outputs": [],
   "source": [
    "df_PM['year'] = df_PM['SUBMIT DATE'].dt.year\n",
    "df_PA['year'] = df_PA['SUBMIT DATE'].dt.year"
   ]
  },
  {
   "cell_type": "code",
   "execution_count": 21,
   "metadata": {},
   "outputs": [],
   "source": [
    "temp1 = df_PM.year.value_counts().to_frame()\n",
    "temp1.rename(columns={'year':'PRODUCT MANAGER'}, inplace=True)\n",
    "\n",
    "temp2 = df_PA.year.value_counts().to_frame()\n",
    "temp2.rename(columns={'year':'PRODUCT ANALYST'}, inplace=True)\n"
   ]
  },
  {
   "cell_type": "code",
   "execution_count": 22,
   "metadata": {},
   "outputs": [],
   "source": [
    "df_list = [temp1, temp2]\n",
    "for d in df_list:\n",
    "    d['Year'] = 0\n",
    "    for i in range(0,d.shape[0]):\n",
    "        d['Year'][i:i+1] = d[i:i+1].index.values[0]"
   ]
  },
  {
   "cell_type": "code",
   "execution_count": 23,
   "metadata": {
    "scrolled": true
   },
   "outputs": [],
   "source": [
    "temp1.sort_values(by='Year', ascending=False, inplace = True)\n",
    "temp2.sort_values(by='Year', ascending=False, inplace = True)"
   ]
  },
  {
   "cell_type": "code",
   "execution_count": 24,
   "metadata": {
    "scrolled": true
   },
   "outputs": [
    {
     "data": {
      "image/png": "[encoded data removed]",
      "text/plain": [
       "<Figure size 1080x360 with 1 Axes>"
      ]
     },
     "metadata": {
      "needs_background": "light"
     },
     "output_type": "display_data"
    }
   ],
   "source": [
    "fig, ax = plt.subplots(figsize=(15, 5))\n",
    "ax.plot('Year', 'PRODUCT MANAGER', data=temp1) \n",
    "ax.plot('Year', 'PRODUCT ANALYST', data=temp2) \n",
    "desc(title='PRODUCT H1B issue number over years', xlabel = 'Year', ylabel='Issue Amount' , legend_title='Job Title')"
   ]
  },
  {
   "cell_type": "markdown",
   "metadata": {},
   "source": [
    "## Research Question 3: H1B approval rate over years?"
   ]
  },
  {
   "cell_type": "code",
   "execution_count": 25,
   "metadata": {
    "scrolled": true
   },
   "outputs": [
    {
     "data": {
      "text/plain": [
       "CERTIFIED                6118\n",
       "WITHDRAWN                 202\n",
       "DENIED                     76\n",
       "CERTIFIED - WITHDRAWN      48\n",
       "Name: CASE STATUS, dtype: int64"
      ]
     },
     "execution_count": 25,
     "metadata": {},
     "output_type": "execute_result"
    }
   ],
   "source": [
    "df['CASE STATUS'].value_counts()"
   ]
  },
  {
   "cell_type": "code",
   "execution_count": 26,
   "metadata": {},
   "outputs": [],
   "source": [
    "temp1['Approval_rate'] = None\n",
    "temp2['Approval_rate'] = None\n",
    "\n",
    "for y in range(2015, 2021):\n",
    "    temp1['Approval_rate'][y] = round(df_PM[(df_PM.year == y) & (df_PM['CASE STATUS'] == \"CERTIFIED\")].shape[0]/df_PM[df_PM.year == y].shape[0], 3)\n",
    "for y in range(2015, 2021):\n",
    "    temp2['Approval_rate'][y] = round(df_PA[(df_PA.year == y) & (df_PA['CASE STATUS'] == \"CERTIFIED\")].shape[0]/df_PA[df_PA.year == y].shape[0], 3)"
   ]
  },
  {
   "cell_type": "code",
   "execution_count": 27,
   "metadata": {
    "scrolled": false
   },
   "outputs": [
    {
     "data": {
      "image/png": "[encoded data removed]",
      "text/plain": [
       "<Figure size 1080x360 with 1 Axes>"
      ]
     },
     "metadata": {
      "needs_background": "light"
     },
     "output_type": "display_data"
    }
   ],
   "source": [
    "fig, ax = plt.subplots(figsize=(15, 5))\n",
    "ax.plot('Year', 'Approval_rate', data=temp1) \n",
    "ax.plot('Year', 'Approval_rate', data=temp2) \n",
    "desc(title='Product Jobs H1B Approval Rate over years', xlabel = 'Year', ylabel='Approval Rate' , legend_title='Job Title')\n",
    "ax.legend(['PRODUCT MANAGER',\"PRODUCT ANALYST\"]);"
   ]
  },
  {
   "cell_type": "markdown",
   "metadata": {},
   "source": [
    "## Research Question 4: Waiting days for H1B?"
   ]
  },
  {
   "cell_type": "code",
   "execution_count": 28,
   "metadata": {},
   "outputs": [],
   "source": [
    "df['waiting_days'] = None\n",
    "for i in range(0, df.shape[0]):\n",
    "    if (df['START DATE'][i:i+1] - df['SUBMIT DATE'][i:i+1])[i].days >= 0:\n",
    "        df['waiting_days'][i:i+1] = (df['START DATE'][i:i+1] - df['SUBMIT DATE'][i:i+1])[i].days\n",
    "    else:\n",
    "        df['waiting_days'][i:i+1] = -1"
   ]
  },
  {
   "cell_type": "code",
   "execution_count": 29,
   "metadata": {
    "scrolled": true
   },
   "outputs": [
    {
     "data": {
      "image/png": "[encoded data removed]",
      "text/plain": [
       "<Figure size 1080x504 with 1 Axes>"
      ]
     },
     "metadata": {
      "needs_background": "light"
     },
     "output_type": "display_data"
    }
   ],
   "source": [
    "df_have_waiting_days = df[(df['waiting_days'] != -1) & (df['CASE STATUS'] == 'CERTIFIED')]\n",
    "desc(title='Product Jobs H1B Average Waiting Days', xlim=(0,160), xlabel = 'Days', size=(15,7), xticks1=range(0,170,10))\n",
    "df_have_waiting_days.groupby('JOB TITLE')['waiting_days'].mean().plot.barh()\n",
    "plt.axvline(x=df_have_waiting_days['waiting_days'].mean(), color = 'red');"
   ]
  },
  {
   "cell_type": "code",
   "execution_count": 30,
   "metadata": {},
   "outputs": [
    {
     "data": {
      "text/plain": [
       "BASE SALARY     124615.607424\n",
       "waiting_days       117.153392\n",
       "dtype: float64"
      ]
     },
     "execution_count": 30,
     "metadata": {},
     "output_type": "execute_result"
    }
   ],
   "source": [
    "df_have_waiting_days.mean()"
   ]
  },
  {
   "cell_type": "markdown",
   "metadata": {},
   "source": [
    "> Note: Product H1B Waiting Days in average is **117 days, which is lower than the average H1b processing time(6 months)**, according to https://www.immi-usa.com/h1b-processing-time/"
   ]
  },
  {
   "cell_type": "markdown",
   "metadata": {},
   "source": [
    "## Research Question 5 Which states offer the most H1B for product roles?"
   ]
  },
  {
   "cell_type": "code",
   "execution_count": 31,
   "metadata": {
    "scrolled": false
   },
   "outputs": [
    {
     "data": {
      "image/png": "[encoded data removed]",
      "text/plain": [
       "<Figure size 864x576 with 1 Axes>"
      ]
     },
     "metadata": {
      "needs_background": "light"
     },
     "output_type": "display_data"
    }
   ],
   "source": [
    "desc(title='Which location offer the most H1B for product roles?', xlim=(0,1200), xlabel = 'H1B Amount', size=(12,8),xticks1=(range(0,1300,100)))\n",
    "df.LOCATION.value_counts()[0:10].sort_values().plot.barh();"
   ]
  },
  {
   "cell_type": "code",
   "execution_count": 70,
   "metadata": {},
   "outputs": [
    {
     "data": {
      "text/plain": [
       "CHICAGO, IL          0.018932\n",
       "SANTA CLARA, CA      0.021260\n",
       "PALO ALTO, CA        0.024519\n",
       "SAN JOSE, CA         0.036313\n",
       "SUNNYVALE, CA        0.043917\n",
       "SEATTLE, WA          0.044382\n",
       "MENLO PARK, CA       0.049969\n",
       "NEW YORK, NY         0.081006\n",
       "MOUNTAIN VIEW, CA    0.090937\n",
       "SAN FRANCISCO, CA    0.160304\n",
       "Name: LOCATION, dtype: float64"
      ]
     },
     "execution_count": 70,
     "metadata": {},
     "output_type": "execute_result"
    }
   ],
   "source": [
    "df.LOCATION.value_counts()[0:10].sort_values()/df.LOCATION.shape[0]"
   ]
  },
  {
   "cell_type": "markdown",
   "metadata": {},
   "source": [
    "## Research Question 7: Which states offer the highest salaries?"
   ]
  },
  {
   "cell_type": "code",
   "execution_count": 63,
   "metadata": {},
   "outputs": [],
   "source": [
    "entry_level = df[df['BASE SALARY'] < 110000]"
   ]
  },
  {
   "cell_type": "code",
   "execution_count": 64,
   "metadata": {},
   "outputs": [],
   "source": [
    "df_top_locations = entry_level[entry_level.LOCATION == 'NEW YORK, NY']\n",
    "for city in entry_level.LOCATION.value_counts()[1:10].index:\n",
    "    df_top_locations = df_top_locations.append(entry_level[entry_level.LOCATION == city])"
   ]
  },
  {
   "cell_type": "code",
   "execution_count": 65,
   "metadata": {},
   "outputs": [],
   "source": [
    "list = df_top_locations.groupby('LOCATION')['BASE SALARY'].median().sort_values().index"
   ]
  },
  {
   "cell_type": "code",
   "execution_count": 68,
   "metadata": {
    "scrolled": false
   },
   "outputs": [
    {
     "data": {
      "image/png": "[encoded data removed]",
      "text/plain": [
       "<Figure size 1368x648 with 1 Axes>"
      ]
     },
     "metadata": {
      "needs_background": "light"
     },
     "output_type": "display_data"
    }
   ],
   "source": [
    "desc(title='Which states offer the highest salaries?', ylim=(30000,110000), yticks1=range(30000,140000,10000), size=(19,9))\n",
    "sb.boxplot(data = df_top_locations, x = 'LOCATION', y = 'BASE SALARY', order=list)\n",
    "plt.xticks( rotation = 10 );"
   ]
  },
  {
   "cell_type": "markdown",
   "metadata": {},
   "source": [
    "## Conclusion"
   ]
  },
  {
   "cell_type": "markdown",
   "metadata": {},
   "source": [
    "> Limitation 1: All these data are disclosure date from h1bdata.info, so we don't know how many unpublished data out there. Therefore, we should have some degree doubt the numbers presented above."
   ]
  },
  {
   "cell_type": "markdown",
   "metadata": {},
   "source": [
    "- Two main product roles for business majors: Product Manager(60%) & Product Analyst(35%)\n",
    "- Salary Rank: Product Manager > Product Analyst\n",
    "- Location(Salary): Mountain View > San Jose > Seattle\n",
    "- Location(H1B): San Francisco(16%) > Mountain View(9%) > New York(8%) \n",
    "- Product Analyst/Manager H1B issue amount and approval rate all have been  increasing over the past few years.\n"
   ]
  },
  {
   "cell_type": "code",
   "execution_count": null,
   "metadata": {},
   "outputs": [],
   "source": []
  }
 ],
 "metadata": {
  "kernelspec": {
   "display_name": "Python 3",
   "language": "python",
   "name": "python3"
  },
  "language_info": {
   "codemirror_mode": {
    "name": "ipython",
    "version": 3
   },
   "file_extension": ".py",
   "mimetype": "text/x-python",
   "name": "python",
   "nbconvert_exporter": "python",
   "pygments_lexer": "ipython3",
   "version": "3.7.4"
  }
 },
 "nbformat": 4,
 "nbformat_minor": 2
}
